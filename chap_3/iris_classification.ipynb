{
 "cells": [
  {
   "cell_type": "markdown",
   "metadata": {},
   "source": [
    "\n",
    "Beispiel der Klassifikations von Iris-Blumen\n"
   ]
  },
  {
   "cell_type": "code",
   "execution_count": 3,
   "metadata": {},
   "outputs": [],
   "source": [
    "import numpy as np\n",
    "import pandas as pd\n",
    "from sklearn.model_selection import train_test_split\n",
    "from sklearn.neural_network import MLPClassifier\n",
    "from sklearn.metrics import classification_report, confusion_matrix  \n",
    "import matplotlib.pyplot as plt"
   ]
  },
  {
   "cell_type": "code",
   "execution_count": 4,
   "metadata": {},
   "outputs": [],
   "source": [
    "# Lade den Iris-Datenset\n",
    "data_train = pd.read_csv('./iris.csv')"
   ]
  },
  {
   "cell_type": "code",
   "execution_count": 5,
   "metadata": {},
   "outputs": [
    {
     "output_type": "execute_result",
     "data": {
      "text/plain": [
       "   sepal length  sepal width  petal length  petal width      species\n",
       "0           5.1          3.5           1.4          0.2  Iris-setosa\n",
       "1           4.9          3.0           1.4          0.2  Iris-setosa\n",
       "2           4.7          3.2           1.3          0.2  Iris-setosa\n",
       "3           4.6          3.1           1.5          0.2  Iris-setosa\n",
       "4           5.0          3.6           1.4          0.2  Iris-setosa"
      ],
      "text/html": "<div>\n<style scoped>\n    .dataframe tbody tr th:only-of-type {\n        vertical-align: middle;\n    }\n\n    .dataframe tbody tr th {\n        vertical-align: top;\n    }\n\n    .dataframe thead th {\n        text-align: right;\n    }\n</style>\n<table border=\"1\" class=\"dataframe\">\n  <thead>\n    <tr style=\"text-align: right;\">\n      <th></th>\n      <th>sepal length</th>\n      <th>sepal width</th>\n      <th>petal length</th>\n      <th>petal width</th>\n      <th>species</th>\n    </tr>\n  </thead>\n  <tbody>\n    <tr>\n      <th>0</th>\n      <td>5.1</td>\n      <td>3.5</td>\n      <td>1.4</td>\n      <td>0.2</td>\n      <td>Iris-setosa</td>\n    </tr>\n    <tr>\n      <th>1</th>\n      <td>4.9</td>\n      <td>3.0</td>\n      <td>1.4</td>\n      <td>0.2</td>\n      <td>Iris-setosa</td>\n    </tr>\n    <tr>\n      <th>2</th>\n      <td>4.7</td>\n      <td>3.2</td>\n      <td>1.3</td>\n      <td>0.2</td>\n      <td>Iris-setosa</td>\n    </tr>\n    <tr>\n      <th>3</th>\n      <td>4.6</td>\n      <td>3.1</td>\n      <td>1.5</td>\n      <td>0.2</td>\n      <td>Iris-setosa</td>\n    </tr>\n    <tr>\n      <th>4</th>\n      <td>5.0</td>\n      <td>3.6</td>\n      <td>1.4</td>\n      <td>0.2</td>\n      <td>Iris-setosa</td>\n    </tr>\n  </tbody>\n</table>\n</div>"
     },
     "metadata": {},
     "execution_count": 5
    }
   ],
   "source": [
    "data_train.head()"
   ]
  },
  {
   "cell_type": "code",
   "execution_count": 6,
   "metadata": {},
   "outputs": [],
   "source": [
    "# Die 3 zu erkennenden Klassifikationsklassen werden zu numerischen Werten 0, 1 bzw. 2 umgewandelt.\n",
    "data_train.loc[data_train['species'] == 'Iris-setosa', 'species'] = 0\n",
    "data_train.loc[data_train['species'] == 'Iris-versicolor', 'species'] = 1\n",
    "data_train.loc[data_train['species'] == 'Iris-virginica', 'species'] = 2\n",
    "\n",
    "data_train = data_train.apply(pd.to_numeric)"
   ]
  },
  {
   "cell_type": "code",
   "execution_count": 7,
   "metadata": {},
   "outputs": [],
   "source": [
    "# Der eingelesene Datenset wird als Matrix dargestellt\n",
    "data_train_array = data_train.values # oder data_train.to_numpy()"
   ]
  },
  {
   "cell_type": "code",
   "execution_count": 8,
   "metadata": {},
   "outputs": [],
   "source": [
    "# Zur Sicherstellung der Reproduzierbarkeit der Ergebnisse setzen wir random.seed auf eine festen Wert, z.B. 42\n",
    "np.random.seed(17)"
   ]
  },
  {
   "cell_type": "markdown",
   "metadata": {},
   "source": [
    "Das Datenset wird in zwei separate Kategorie gespaltet: Testdaten und Trainingsdaten. \n",
    "80% der Daten werden zum Trainieren und 20% zum Testen des Modells verwendet. \n",
    "Da es sich bei der Eingabe um einen Vektor handelt, werden wird den Großbuchstaben X benutzen; \n",
    "Für die Ausgabe hingegen handelt es sich um ein einzelner Werte, \n",
    "daher die Bezeichung mit dem Kleinbuchstaben y "
   ]
  },
  {
   "cell_type": "code",
   "execution_count": 11,
   "metadata": {},
   "outputs": [],
   "source": [
    "X_train, X_test, y_train, y_test = train_test_split(data_train_array[:,:4],\n",
    "                                                    data_train_array[:,4],\n",
    "                                                    test_size=0.2)"
   ]
  },
  {
   "cell_type": "code",
   "execution_count": 12,
   "metadata": {},
   "outputs": [],
   "source": [
    "# VERSION 1\n",
    "# Ein neuronales Netz zur Klassifikation (MultiLayerPerceptron) wird mit folgenden Eigenschaften gebildet:\n",
    "# einem Input-Layer mit 4 Neuronen, die die Merkmale der Iris-Planze repräsentieren;\n",
    "# einem Hidden-Layer mit 10 Neuronen\n",
    "# eime Output-Layer mit 3 Neuronen, die die zu erkennenden Klassen repräsentieren.\n",
    "# Dabei wird als Aktivierungsfunktion relu und als Optimierer adam verwenden.\n",
    "mlp = MLPClassifier(hidden_layer_sizes=(10,), activation='relu', solver='adam', max_iter=350, batch_size=10, verbose=True)"
   ]
  },
  {
   "cell_type": "markdown",
   "metadata": {},
   "source": [
    "VERSION 2\n",
    "In der zweiten Variante werden 2 Hidden-Layers mit jeweils 5 bzw. 3 Neuronen verwendet\n",
    "Dabei wird als Aktivierungsfunktion tanh und als Optimierer adam verwenden. "
   ]
  },
  {
   "cell_type": "code",
   "execution_count": 25,
   "metadata": {},
   "outputs": [],
   "source": [
    "mlp = MLPClassifier(hidden_layer_sizes=(5,3), activation='tanh', solver='adam', max_iter=350, batch_size=10, verbose=True)"
   ]
  },
  {
   "cell_type": "code",
   "execution_count": 26,
   "metadata": {},
   "outputs": [
    {
     "output_type": "stream",
     "name": "stdout",
     "text": [
      "Iteration 1, loss = 1.21732780\n",
      "Iteration 2, loss = 1.19144898\n",
      "Iteration 3, loss = 1.16890300\n",
      "Iteration 4, loss = 1.14788266\n",
      "Iteration 5, loss = 1.12697150\n",
      "Iteration 6, loss = 1.10592680\n",
      "Iteration 7, loss = 1.08561176\n",
      "Iteration 8, loss = 1.06505903\n",
      "Iteration 9, loss = 1.04364677\n",
      "Iteration 10, loss = 1.02200874\n",
      "Iteration 11, loss = 0.99961088\n",
      "Iteration 12, loss = 0.97524607\n",
      "Iteration 13, loss = 0.95124102\n",
      "Iteration 14, loss = 0.92615754\n",
      "Iteration 15, loss = 0.90055296\n",
      "Iteration 16, loss = 0.87510715\n",
      "Iteration 17, loss = 0.84886235\n",
      "Iteration 18, loss = 0.82309572\n",
      "Iteration 19, loss = 0.79793612\n",
      "Iteration 20, loss = 0.77454895\n",
      "Iteration 21, loss = 0.75279229\n",
      "Iteration 22, loss = 0.73316091\n",
      "Iteration 23, loss = 0.71529134\n",
      "Iteration 24, loss = 0.69916376\n",
      "Iteration 25, loss = 0.68426002\n",
      "Iteration 26, loss = 0.67042921\n",
      "Iteration 27, loss = 0.65840543\n",
      "Iteration 28, loss = 0.64650796\n",
      "Iteration 29, loss = 0.63552200\n",
      "Iteration 30, loss = 0.62570634\n",
      "Iteration 31, loss = 0.61674238\n",
      "Iteration 32, loss = 0.60809963\n",
      "Iteration 33, loss = 0.60046663\n",
      "Iteration 34, loss = 0.59315048\n",
      "Iteration 35, loss = 0.58641019\n",
      "Iteration 36, loss = 0.57996056\n",
      "Iteration 37, loss = 0.57407940\n",
      "Iteration 38, loss = 0.56841613\n",
      "Iteration 39, loss = 0.56382449\n",
      "Iteration 40, loss = 0.55827825\n",
      "Iteration 41, loss = 0.55320250\n",
      "Iteration 42, loss = 0.54877595\n",
      "Iteration 43, loss = 0.54448583\n",
      "Iteration 44, loss = 0.54063495\n",
      "Iteration 45, loss = 0.53728625\n",
      "Iteration 46, loss = 0.53350812\n",
      "Iteration 47, loss = 0.53049867\n",
      "Iteration 48, loss = 0.52726204\n",
      "Iteration 49, loss = 0.52448327\n",
      "Iteration 50, loss = 0.52151625\n",
      "Iteration 51, loss = 0.51873421\n",
      "Iteration 52, loss = 0.51627243\n",
      "Iteration 53, loss = 0.51364676\n",
      "Iteration 54, loss = 0.51110645\n",
      "Iteration 55, loss = 0.50864420\n",
      "Iteration 56, loss = 0.50607958\n",
      "Iteration 57, loss = 0.50366179\n",
      "Iteration 58, loss = 0.50111458\n",
      "Iteration 59, loss = 0.49866264\n",
      "Iteration 60, loss = 0.49582345\n",
      "Iteration 61, loss = 0.49311713\n",
      "Iteration 62, loss = 0.49040041\n",
      "Iteration 63, loss = 0.48751970\n",
      "Iteration 64, loss = 0.48445040\n",
      "Iteration 65, loss = 0.48180156\n",
      "Iteration 66, loss = 0.47839828\n",
      "Iteration 67, loss = 0.47520608\n",
      "Iteration 68, loss = 0.47218368\n",
      "Iteration 69, loss = 0.46889738\n",
      "Iteration 70, loss = 0.46529388\n",
      "Iteration 71, loss = 0.46170625\n",
      "Iteration 72, loss = 0.45777904\n",
      "Iteration 73, loss = 0.45379297\n",
      "Iteration 74, loss = 0.45011685\n",
      "Iteration 75, loss = 0.44656238\n",
      "Iteration 76, loss = 0.44199414\n",
      "Iteration 77, loss = 0.43767318\n",
      "Iteration 78, loss = 0.43425259\n",
      "Iteration 79, loss = 0.42841107\n",
      "Iteration 80, loss = 0.42471908\n",
      "Iteration 81, loss = 0.42005408\n",
      "Iteration 82, loss = 0.41449983\n",
      "Iteration 83, loss = 0.41068478\n",
      "Iteration 84, loss = 0.40491077\n",
      "Iteration 85, loss = 0.39966583\n",
      "Iteration 86, loss = 0.39464489\n",
      "Iteration 87, loss = 0.39101285\n",
      "Iteration 88, loss = 0.38457220\n",
      "Iteration 89, loss = 0.37970379\n",
      "Iteration 90, loss = 0.37423938\n",
      "Iteration 91, loss = 0.36795841\n",
      "Iteration 92, loss = 0.36356708\n",
      "Iteration 93, loss = 0.35728114\n",
      "Iteration 94, loss = 0.35171049\n",
      "Iteration 95, loss = 0.34632578\n",
      "Iteration 96, loss = 0.34130450\n",
      "Iteration 97, loss = 0.33527413\n",
      "Iteration 98, loss = 0.33012685\n",
      "Iteration 99, loss = 0.32550041\n",
      "Iteration 100, loss = 0.32020229\n",
      "Iteration 101, loss = 0.31392806\n",
      "Iteration 102, loss = 0.30953115\n",
      "Iteration 103, loss = 0.30402140\n",
      "Iteration 104, loss = 0.29883309\n",
      "Iteration 105, loss = 0.29471044\n",
      "Iteration 106, loss = 0.28962751\n",
      "Iteration 107, loss = 0.28448914\n",
      "Iteration 108, loss = 0.27979148\n",
      "Iteration 109, loss = 0.27618826\n",
      "Iteration 110, loss = 0.27361899\n",
      "Iteration 111, loss = 0.26633989\n",
      "Iteration 112, loss = 0.26247658\n",
      "Iteration 113, loss = 0.25866204\n",
      "Iteration 114, loss = 0.25388928\n",
      "Iteration 115, loss = 0.25001975\n",
      "Iteration 116, loss = 0.24786440\n",
      "Iteration 117, loss = 0.24489272\n",
      "Iteration 118, loss = 0.23901297\n",
      "Iteration 119, loss = 0.23626748\n",
      "Iteration 120, loss = 0.23246886\n",
      "Iteration 121, loss = 0.22941821\n",
      "Iteration 122, loss = 0.22493625\n",
      "Iteration 123, loss = 0.22246789\n",
      "Iteration 124, loss = 0.21912598\n",
      "Iteration 125, loss = 0.21577433\n",
      "Iteration 126, loss = 0.21253748\n",
      "Iteration 127, loss = 0.21025645\n",
      "Iteration 128, loss = 0.20673659\n",
      "Iteration 129, loss = 0.20405763\n",
      "Iteration 130, loss = 0.20259381\n",
      "Iteration 131, loss = 0.19787731\n",
      "Iteration 132, loss = 0.19841581\n",
      "Iteration 133, loss = 0.19303412\n",
      "Iteration 134, loss = 0.19321216\n",
      "Iteration 135, loss = 0.18780706\n",
      "Iteration 136, loss = 0.18740696\n",
      "Iteration 137, loss = 0.18452851\n",
      "Iteration 138, loss = 0.18234722\n",
      "Iteration 139, loss = 0.18026692\n",
      "Iteration 140, loss = 0.17919085\n",
      "Iteration 141, loss = 0.17576534\n",
      "Iteration 142, loss = 0.17441189\n",
      "Iteration 143, loss = 0.17176745\n",
      "Iteration 144, loss = 0.17181841\n",
      "Iteration 145, loss = 0.17295172\n",
      "Iteration 146, loss = 0.16684234\n",
      "Iteration 147, loss = 0.16522435\n",
      "Iteration 148, loss = 0.16574785\n",
      "Iteration 149, loss = 0.16123393\n",
      "Iteration 150, loss = 0.15979098\n",
      "Iteration 151, loss = 0.15897308\n",
      "Iteration 152, loss = 0.15642258\n",
      "Iteration 153, loss = 0.15557005\n",
      "Iteration 154, loss = 0.15530747\n",
      "Iteration 155, loss = 0.15177528\n",
      "Iteration 156, loss = 0.15467118\n",
      "Iteration 157, loss = 0.14935980\n",
      "Iteration 158, loss = 0.15011889\n",
      "Iteration 159, loss = 0.14690064\n",
      "Iteration 160, loss = 0.14678800\n",
      "Iteration 161, loss = 0.14980422\n",
      "Iteration 162, loss = 0.14253724\n",
      "Iteration 163, loss = 0.14391305\n",
      "Iteration 164, loss = 0.14054518\n",
      "Iteration 165, loss = 0.14165116\n",
      "Iteration 166, loss = 0.13802660\n",
      "Iteration 167, loss = 0.13804039\n",
      "Iteration 168, loss = 0.14256591\n",
      "Iteration 169, loss = 0.13932756\n",
      "Iteration 170, loss = 0.13407957\n",
      "Iteration 171, loss = 0.13454530\n",
      "Iteration 172, loss = 0.13497499\n",
      "Iteration 173, loss = 0.13889326\n",
      "Iteration 174, loss = 0.12936320\n",
      "Iteration 175, loss = 0.13036320\n",
      "Iteration 176, loss = 0.12755642\n",
      "Iteration 177, loss = 0.12724899\n",
      "Iteration 178, loss = 0.12594074\n",
      "Iteration 179, loss = 0.12803956\n",
      "Iteration 180, loss = 0.12412477\n",
      "Iteration 181, loss = 0.12362535\n",
      "Iteration 182, loss = 0.12300309\n",
      "Iteration 183, loss = 0.12354465\n",
      "Iteration 184, loss = 0.12153054\n",
      "Iteration 185, loss = 0.12057104\n",
      "Iteration 186, loss = 0.12037668\n",
      "Iteration 187, loss = 0.11805068\n",
      "Iteration 188, loss = 0.11741014\n",
      "Iteration 189, loss = 0.11660962\n",
      "Iteration 190, loss = 0.11608974\n",
      "Iteration 191, loss = 0.11521745\n",
      "Iteration 192, loss = 0.11458728\n",
      "Iteration 193, loss = 0.11430404\n",
      "Iteration 194, loss = 0.11697692\n",
      "Iteration 195, loss = 0.11177831\n",
      "Iteration 196, loss = 0.11310527\n",
      "Iteration 197, loss = 0.11083031\n",
      "Iteration 198, loss = 0.11506277\n",
      "Iteration 199, loss = 0.11543946\n",
      "Iteration 200, loss = 0.11195359\n",
      "Iteration 201, loss = 0.10815886\n",
      "Iteration 202, loss = 0.10781915\n",
      "Iteration 203, loss = 0.10816802\n",
      "Iteration 204, loss = 0.10636898\n",
      "Iteration 205, loss = 0.10589602\n",
      "Iteration 206, loss = 0.10615985\n",
      "Iteration 207, loss = 0.10568914\n",
      "Iteration 208, loss = 0.10521985\n",
      "Iteration 209, loss = 0.10346629\n",
      "Iteration 210, loss = 0.10461706\n",
      "Iteration 211, loss = 0.10213577\n",
      "Iteration 212, loss = 0.10292642\n",
      "Iteration 213, loss = 0.10140286\n",
      "Iteration 214, loss = 0.10139513\n",
      "Iteration 215, loss = 0.10366895\n",
      "Iteration 216, loss = 0.10043872\n",
      "Iteration 217, loss = 0.09950867\n",
      "Iteration 218, loss = 0.09882494\n",
      "Iteration 219, loss = 0.09953274\n",
      "Iteration 220, loss = 0.09822581\n",
      "Iteration 221, loss = 0.09706875\n",
      "Iteration 222, loss = 0.09794016\n",
      "Iteration 223, loss = 0.09909355\n",
      "Iteration 224, loss = 0.10083723\n",
      "Iteration 225, loss = 0.09569476\n",
      "Iteration 226, loss = 0.09613499\n",
      "Iteration 227, loss = 0.09815809\n",
      "Iteration 228, loss = 0.09507448\n",
      "Iteration 229, loss = 0.09567705\n",
      "Iteration 230, loss = 0.09327234\n",
      "Iteration 231, loss = 0.09429792\n",
      "Iteration 232, loss = 0.09236229\n",
      "Iteration 233, loss = 0.09453859\n",
      "Iteration 234, loss = 0.09508749\n",
      "Iteration 235, loss = 0.09126115\n",
      "Iteration 236, loss = 0.09337820\n",
      "Iteration 237, loss = 0.09139993\n",
      "Iteration 238, loss = 0.09387781\n",
      "Iteration 239, loss = 0.09047744\n",
      "Iteration 240, loss = 0.09209110\n",
      "Iteration 241, loss = 0.09060272\n",
      "Iteration 242, loss = 0.08800499\n",
      "Iteration 243, loss = 0.08874293\n",
      "Iteration 244, loss = 0.08777502\n",
      "Iteration 245, loss = 0.08727921\n",
      "Iteration 246, loss = 0.08674515\n",
      "Iteration 247, loss = 0.08668620\n",
      "Iteration 248, loss = 0.08645462\n",
      "Iteration 249, loss = 0.08759617\n",
      "Iteration 250, loss = 0.08654061\n",
      "Iteration 251, loss = 0.08589971\n",
      "Iteration 252, loss = 0.08551770\n",
      "Iteration 253, loss = 0.08484521\n",
      "Iteration 254, loss = 0.08558202\n",
      "Iteration 255, loss = 0.08405109\n",
      "Iteration 256, loss = 0.08413512\n",
      "Iteration 257, loss = 0.08396063\n",
      "Iteration 258, loss = 0.08412537\n",
      "Iteration 259, loss = 0.08300939\n",
      "Iteration 260, loss = 0.08278968\n",
      "Iteration 261, loss = 0.08268115\n",
      "Iteration 262, loss = 0.08248231\n",
      "Iteration 263, loss = 0.08202394\n",
      "Iteration 264, loss = 0.08258462\n",
      "Iteration 265, loss = 0.08104880\n",
      "Iteration 266, loss = 0.08254600\n",
      "Iteration 267, loss = 0.08398764\n",
      "Iteration 268, loss = 0.08115520\n",
      "Iteration 269, loss = 0.08100499\n",
      "Iteration 270, loss = 0.08106527\n",
      "Iteration 271, loss = 0.08041585\n",
      "Iteration 272, loss = 0.08081562\n",
      "Iteration 273, loss = 0.07919821\n",
      "Iteration 274, loss = 0.07957156\n",
      "Iteration 275, loss = 0.07869372\n",
      "Iteration 276, loss = 0.07815002\n",
      "Iteration 277, loss = 0.07813935\n",
      "Iteration 278, loss = 0.07735846\n",
      "Iteration 279, loss = 0.07708914\n",
      "Iteration 280, loss = 0.08026341\n",
      "Iteration 281, loss = 0.07522258\n",
      "Iteration 282, loss = 0.08012563\n",
      "Iteration 283, loss = 0.07585245\n",
      "Iteration 284, loss = 0.07603284\n",
      "Iteration 285, loss = 0.07860190\n",
      "Iteration 286, loss = 0.07520893\n",
      "Iteration 287, loss = 0.07520850\n",
      "Iteration 288, loss = 0.07489672\n",
      "Iteration 289, loss = 0.07490618\n",
      "Iteration 290, loss = 0.07557961\n",
      "Iteration 291, loss = 0.07391060\n",
      "Iteration 292, loss = 0.07382225\n",
      "Iteration 293, loss = 0.07560935\n",
      "Iteration 294, loss = 0.07564068\n",
      "Iteration 295, loss = 0.07321299\n",
      "Iteration 296, loss = 0.07297093\n",
      "Iteration 297, loss = 0.07508060\n",
      "Iteration 298, loss = 0.07251537\n",
      "Iteration 299, loss = 0.07307232\n",
      "Iteration 300, loss = 0.07211856\n",
      "Iteration 301, loss = 0.07296770\n",
      "Iteration 302, loss = 0.07239041\n",
      "Iteration 303, loss = 0.07649467\n",
      "Iteration 304, loss = 0.07170319\n",
      "Iteration 305, loss = 0.07153777\n",
      "Iteration 306, loss = 0.07137737\n",
      "Iteration 307, loss = 0.07037238\n",
      "Iteration 308, loss = 0.07097654\n",
      "Iteration 309, loss = 0.07219880\n",
      "Iteration 310, loss = 0.07117058\n",
      "Iteration 311, loss = 0.07082994\n",
      "Iteration 312, loss = 0.06998527\n",
      "Iteration 313, loss = 0.07036197\n",
      "Iteration 314, loss = 0.07009813\n",
      "Iteration 315, loss = 0.07121980\n",
      "Iteration 316, loss = 0.07041234\n",
      "Iteration 317, loss = 0.06922077\n",
      "Iteration 318, loss = 0.06974362\n",
      "Iteration 319, loss = 0.06909620\n",
      "Iteration 320, loss = 0.06867103\n",
      "Iteration 321, loss = 0.06864342\n",
      "Iteration 322, loss = 0.06990741\n",
      "Iteration 323, loss = 0.06726513\n",
      "Iteration 324, loss = 0.06912498\n",
      "Iteration 325, loss = 0.06806428\n",
      "Iteration 326, loss = 0.06974076\n",
      "Iteration 327, loss = 0.07124307\n",
      "Iteration 328, loss = 0.06753695\n",
      "Iteration 329, loss = 0.06918979\n",
      "Iteration 330, loss = 0.06619526\n",
      "Iteration 331, loss = 0.06736745\n",
      "Iteration 332, loss = 0.06642629\n",
      "Iteration 333, loss = 0.06951779\n",
      "Iteration 334, loss = 0.06623113\n",
      "Iteration 335, loss = 0.06749332\n",
      "Iteration 336, loss = 0.06623364\n",
      "Iteration 337, loss = 0.06871039\n",
      "Iteration 338, loss = 0.06769114\n",
      "Iteration 339, loss = 0.07286915\n",
      "Iteration 340, loss = 0.06592964\n",
      "Iteration 341, loss = 0.06725998\n",
      "Iteration 342, loss = 0.06547127\n",
      "Iteration 343, loss = 0.06735561\n",
      "Iteration 344, loss = 0.06471302\n",
      "Iteration 345, loss = 0.06586207\n",
      "Iteration 346, loss = 0.06690185\n",
      "Iteration 347, loss = 0.06356016\n",
      "Iteration 348, loss = 0.06640119\n",
      "Iteration 349, loss = 0.06928073\n",
      "Iteration 350, loss = 0.06546584\n"
     ]
    },
    {
     "output_type": "execute_result",
     "data": {
      "text/plain": [
       "MLPClassifier(activation='tanh', batch_size=10, hidden_layer_sizes=(5, 3),\n",
       "              max_iter=350, verbose=True)"
      ]
     },
     "metadata": {},
     "execution_count": 26
    }
   ],
   "source": [
    "# Das neuronale Netz wird mit den Trainingsdaten traniert\n",
    "mlp.fit(X_train, y_train)"
   ]
  },
  {
   "cell_type": "code",
   "execution_count": 27,
   "metadata": {},
   "outputs": [
    {
     "output_type": "stream",
     "name": "stdout",
     "text": [
      "Trainingsergebnis: 0.992\n"
     ]
    }
   ],
   "source": [
    "# Das Ergebnis des Training wird ausgegeben\n",
    "print(\"Trainingsergebnis: %5.3f\" % mlp.score(X_train, y_train))"
   ]
  },
  {
   "cell_type": "code",
   "execution_count": 28,
   "metadata": {},
   "outputs": [
    {
     "output_type": "stream",
     "name": "stdout",
     "text": [
      "[[ 7  0  0]\n [ 0 11  0]\n [ 0  1 11]]\n"
     ]
    }
   ],
   "source": [
    "# Das Modell wird mit den Testdatensdaten evaluiert\n",
    "predictions = mlp.predict(X_test)\n",
    "# und die Konfusionsmatrix ausgegeben\n",
    "print(confusion_matrix(y_test,predictions))  "
   ]
  },
  {
   "cell_type": "code",
   "execution_count": 29,
   "metadata": {},
   "outputs": [
    {
     "output_type": "stream",
     "name": "stdout",
     "text": [
      "              precision    recall  f1-score   support\n\n         0.0       1.00      1.00      1.00         7\n         1.0       0.92      1.00      0.96        11\n         2.0       1.00      0.92      0.96        12\n\n    accuracy                           0.97        30\n   macro avg       0.97      0.97      0.97        30\nweighted avg       0.97      0.97      0.97        30\n\n"
     ]
    }
   ],
   "source": [
    "# Aus der Konfusionsmatrix werden precison, recall und f1-score berechnet und ausgebenen\n",
    "print(classification_report(y_test,predictions)) "
   ]
  },
  {
   "cell_type": "code",
   "execution_count": 30,
   "metadata": {},
   "outputs": [
    {
     "output_type": "stream",
     "name": "stdout",
     "text": [
      "Testergebnis: 0.967\n"
     ]
    }
   ],
   "source": [
    "# Das Modell wird getest und das Ergebnis ausgegeben\n",
    "print(\"Testergebnis: %5.3f\" % mlp.score(X_test,y_test))"
   ]
  },
  {
   "cell_type": "code",
   "execution_count": 18,
   "metadata": {},
   "outputs": [
    {
     "output_type": "stream",
     "name": "stdout",
     "text": [
      "WEIGHTS: [array([[-2.82928616e-02,  3.98626014e-01, -5.97650566e-02,\n         3.60177468e-01,  8.35854375e-02,  4.61691767e-67,\n         5.58140154e-01,  3.03496513e-01,  3.98363846e-01,\n        -2.26749801e-02],\n       [ 6.69030070e-01, -3.14379912e-01, -9.14913685e-02,\n         5.20526479e-01, -6.07593114e-01, -3.72425974e-98,\n         3.55825014e-01,  6.43137144e-01,  4.05330555e-01,\n        -3.71695990e-01],\n       [ 5.68242922e-01,  6.41685919e-01, -5.92638144e-02,\n        -5.45713391e-01,  1.42606035e+00, -8.59704250e-22,\n        -2.29152900e-03,  5.22687734e-01,  1.62946479e-02,\n         4.20088178e-02],\n       [ 3.74815797e-01,  5.69459224e-01, -2.24764024e-02,\n        -6.67575691e-01,  1.20578245e+00, -1.95510383e-20,\n        -9.93512796e-01, -1.93401619e-01,  2.19345212e-01,\n         1.08464432e+00]]), array([[ 4.95433091e-01, -4.86281052e-01,  4.44882544e-01],\n       [-7.49077340e-02, -5.77231816e-02,  3.09369926e-01],\n       [ 5.35374686e-02, -8.18924816e-03, -5.34071722e-02],\n       [ 2.16582651e+00,  1.09421618e+00, -2.25413978e+00],\n       [-2.04139219e+00,  6.33446836e-02,  7.50051333e-01],\n       [-1.35138137e-22, -8.52400906e-30,  7.23022956e-94],\n       [ 7.67483959e-01,  3.42160066e-01, -6.39654527e-01],\n       [-2.53905584e-01,  1.40318999e-01, -7.03359532e-01],\n       [ 1.04147974e-01,  1.19211175e-01,  2.71911450e-01],\n       [-3.39491711e-01, -9.52355438e-01,  9.09437781e-01]])]\nBIASES: [array([-0.46699862,  0.1718756 ,  0.4377293 ,  1.1591752 , -0.80572818,\n       -0.19448985, -0.02452142,  0.66509048, -0.52902837, -0.31067644]), array([-0.05163483, -0.25541857, -1.0410276 ])]\n"
     ]
    }
   ],
   "source": [
    "# Folgendes gibt die Werte der Gewichte pro Layer aus\n",
    "print(\"WEIGHTS:\", mlp.coefs_)\n",
    "print(\"BIASES:\", mlp.intercepts_) "
   ]
  },
  {
   "cell_type": "code",
   "execution_count": 31,
   "metadata": {},
   "outputs": [
    {
     "output_type": "execute_result",
     "data": {
      "text/plain": [
       "((4, 5), (5, 3))"
      ]
     },
     "metadata": {},
     "execution_count": 31
    }
   ],
   "source": [
    "mlp.coefs_[0].shape, mlp.coefs_[1].shape"
   ]
  },
  {
   "cell_type": "code",
   "execution_count": 19,
   "metadata": {},
   "outputs": [
    {
     "output_type": "stream",
     "name": "stdout",
     "text": [
      "[0. 2. 0. 1.]\n"
     ]
    }
   ],
   "source": [
    "# Das Modell wird beispielsweise zur Vorhersage auf folgenden Werten \n",
    "# aus dem Testset angewandt mit den Merkmalen [sepal-length, sepal-width, \n",
    "# petal-length, petal-width]\n",
    "print(mlp.predict([[5.1,3.5,1.4,0.2], [5.9,3.,5.1,1.8], [4.9,3.,1.4,0.2], [5.8,2.7,4.1,1.]]))"
   ]
  },
  {
   "cell_type": "code",
   "execution_count": 32,
   "metadata": {},
   "outputs": [
    {
     "output_type": "display_data",
     "data": {
      "text/plain": "<Figure size 432x288 with 1 Axes>",
      "image/svg+xml": "<?xml version=\"1.0\" encoding=\"utf-8\" standalone=\"no\"?>\r\n<!DOCTYPE svg PUBLIC \"-//W3C//DTD SVG 1.1//EN\"\r\n  \"http://www.w3.org/Graphics/SVG/1.1/DTD/svg11.dtd\">\r\n<!-- Created with matplotlib (https://matplotlib.org/) -->\r\n<svg height=\"262.19625pt\" version=\"1.1\" viewBox=\"0 0 385.78125 262.19625\" width=\"385.78125pt\" xmlns=\"http://www.w3.org/2000/svg\" xmlns:xlink=\"http://www.w3.org/1999/xlink\">\r\n <metadata>\r\n  <rdf:RDF xmlns:cc=\"http://creativecommons.org/ns#\" xmlns:dc=\"http://purl.org/dc/elements/1.1/\" xmlns:rdf=\"http://www.w3.org/1999/02/22-rdf-syntax-ns#\">\r\n   <cc:Work>\r\n    <dc:type rdf:resource=\"http://purl.org/dc/dcmitype/StillImage\"/>\r\n    <dc:date>2020-10-21T22:19:23.528383</dc:date>\r\n    <dc:format>image/svg+xml</dc:format>\r\n    <dc:creator>\r\n     <cc:Agent>\r\n      <dc:title>Matplotlib v3.3.1, https://matplotlib.org/</dc:title>\r\n     </cc:Agent>\r\n    </dc:creator>\r\n   </cc:Work>\r\n  </rdf:RDF>\r\n </metadata>\r\n <defs>\r\n  <style type=\"text/css\">*{stroke-linecap:butt;stroke-linejoin:round;}</style>\r\n </defs>\r\n <g id=\"figure_1\">\r\n  <g id=\"patch_1\">\r\n   <path d=\"M 0 262.19625 \r\nL 385.78125 262.19625 \r\nL 385.78125 0 \r\nL 0 0 \r\nz\r\n\" style=\"fill:none;\"/>\r\n  </g>\r\n  <g id=\"axes_1\">\r\n   <g id=\"patch_2\">\r\n    <path d=\"M 43.78125 224.64 \r\nL 378.58125 224.64 \r\nL 378.58125 7.2 \r\nL 43.78125 7.2 \r\nz\r\n\" style=\"fill:#ffffff;\"/>\r\n   </g>\r\n   <g id=\"matplotlib.axis_1\">\r\n    <g id=\"xtick_1\">\r\n     <g id=\"line2d_1\">\r\n      <defs>\r\n       <path d=\"M 0 0 \r\nL 0 3.5 \r\n\" id=\"mb263d26dd1\" style=\"stroke:#000000;stroke-width:0.8;\"/>\r\n      </defs>\r\n      <g>\r\n       <use style=\"stroke:#000000;stroke-width:0.8;\" x=\"58.999432\" xlink:href=\"#mb263d26dd1\" y=\"224.64\"/>\r\n      </g>\r\n     </g>\r\n     <g id=\"text_1\">\r\n      <!-- 0 -->\r\n      <g transform=\"translate(55.818182 239.238438)scale(0.1 -0.1)\">\r\n       <defs>\r\n        <path d=\"M 31.78125 66.40625 \r\nQ 24.171875 66.40625 20.328125 58.90625 \r\nQ 16.5 51.421875 16.5 36.375 \r\nQ 16.5 21.390625 20.328125 13.890625 \r\nQ 24.171875 6.390625 31.78125 6.390625 \r\nQ 39.453125 6.390625 43.28125 13.890625 \r\nQ 47.125 21.390625 47.125 36.375 \r\nQ 47.125 51.421875 43.28125 58.90625 \r\nQ 39.453125 66.40625 31.78125 66.40625 \r\nz\r\nM 31.78125 74.21875 \r\nQ 44.046875 74.21875 50.515625 64.515625 \r\nQ 56.984375 54.828125 56.984375 36.375 \r\nQ 56.984375 17.96875 50.515625 8.265625 \r\nQ 44.046875 -1.421875 31.78125 -1.421875 \r\nQ 19.53125 -1.421875 13.0625 8.265625 \r\nQ 6.59375 17.96875 6.59375 36.375 \r\nQ 6.59375 54.828125 13.0625 64.515625 \r\nQ 19.53125 74.21875 31.78125 74.21875 \r\nz\r\n\" id=\"DejaVuSans-48\"/>\r\n       </defs>\r\n       <use xlink:href=\"#DejaVuSans-48\"/>\r\n      </g>\r\n     </g>\r\n    </g>\r\n    <g id=\"xtick_2\">\r\n     <g id=\"line2d_2\">\r\n      <g>\r\n       <use style=\"stroke:#000000;stroke-width:0.8;\" x=\"102.604537\" xlink:href=\"#mb263d26dd1\" y=\"224.64\"/>\r\n      </g>\r\n     </g>\r\n     <g id=\"text_2\">\r\n      <!-- 50 -->\r\n      <g transform=\"translate(96.242037 239.238438)scale(0.1 -0.1)\">\r\n       <defs>\r\n        <path d=\"M 10.796875 72.90625 \r\nL 49.515625 72.90625 \r\nL 49.515625 64.59375 \r\nL 19.828125 64.59375 \r\nL 19.828125 46.734375 \r\nQ 21.96875 47.46875 24.109375 47.828125 \r\nQ 26.265625 48.1875 28.421875 48.1875 \r\nQ 40.625 48.1875 47.75 41.5 \r\nQ 54.890625 34.8125 54.890625 23.390625 \r\nQ 54.890625 11.625 47.5625 5.09375 \r\nQ 40.234375 -1.421875 26.90625 -1.421875 \r\nQ 22.3125 -1.421875 17.546875 -0.640625 \r\nQ 12.796875 0.140625 7.71875 1.703125 \r\nL 7.71875 11.625 \r\nQ 12.109375 9.234375 16.796875 8.0625 \r\nQ 21.484375 6.890625 26.703125 6.890625 \r\nQ 35.15625 6.890625 40.078125 11.328125 \r\nQ 45.015625 15.765625 45.015625 23.390625 \r\nQ 45.015625 31 40.078125 35.4375 \r\nQ 35.15625 39.890625 26.703125 39.890625 \r\nQ 22.75 39.890625 18.8125 39.015625 \r\nQ 14.890625 38.140625 10.796875 36.28125 \r\nz\r\n\" id=\"DejaVuSans-53\"/>\r\n       </defs>\r\n       <use xlink:href=\"#DejaVuSans-53\"/>\r\n       <use x=\"63.623047\" xlink:href=\"#DejaVuSans-48\"/>\r\n      </g>\r\n     </g>\r\n    </g>\r\n    <g id=\"xtick_3\">\r\n     <g id=\"line2d_3\">\r\n      <g>\r\n       <use style=\"stroke:#000000;stroke-width:0.8;\" x=\"146.209643\" xlink:href=\"#mb263d26dd1\" y=\"224.64\"/>\r\n      </g>\r\n     </g>\r\n     <g id=\"text_3\">\r\n      <!-- 100 -->\r\n      <g transform=\"translate(136.665893 239.238438)scale(0.1 -0.1)\">\r\n       <defs>\r\n        <path d=\"M 12.40625 8.296875 \r\nL 28.515625 8.296875 \r\nL 28.515625 63.921875 \r\nL 10.984375 60.40625 \r\nL 10.984375 69.390625 \r\nL 28.421875 72.90625 \r\nL 38.28125 72.90625 \r\nL 38.28125 8.296875 \r\nL 54.390625 8.296875 \r\nL 54.390625 0 \r\nL 12.40625 0 \r\nz\r\n\" id=\"DejaVuSans-49\"/>\r\n       </defs>\r\n       <use xlink:href=\"#DejaVuSans-49\"/>\r\n       <use x=\"63.623047\" xlink:href=\"#DejaVuSans-48\"/>\r\n       <use x=\"127.246094\" xlink:href=\"#DejaVuSans-48\"/>\r\n      </g>\r\n     </g>\r\n    </g>\r\n    <g id=\"xtick_4\">\r\n     <g id=\"line2d_4\">\r\n      <g>\r\n       <use style=\"stroke:#000000;stroke-width:0.8;\" x=\"189.814748\" xlink:href=\"#mb263d26dd1\" y=\"224.64\"/>\r\n      </g>\r\n     </g>\r\n     <g id=\"text_4\">\r\n      <!-- 150 -->\r\n      <g transform=\"translate(180.270998 239.238438)scale(0.1 -0.1)\">\r\n       <use xlink:href=\"#DejaVuSans-49\"/>\r\n       <use x=\"63.623047\" xlink:href=\"#DejaVuSans-53\"/>\r\n       <use x=\"127.246094\" xlink:href=\"#DejaVuSans-48\"/>\r\n      </g>\r\n     </g>\r\n    </g>\r\n    <g id=\"xtick_5\">\r\n     <g id=\"line2d_5\">\r\n      <g>\r\n       <use style=\"stroke:#000000;stroke-width:0.8;\" x=\"233.419854\" xlink:href=\"#mb263d26dd1\" y=\"224.64\"/>\r\n      </g>\r\n     </g>\r\n     <g id=\"text_5\">\r\n      <!-- 200 -->\r\n      <g transform=\"translate(223.876104 239.238438)scale(0.1 -0.1)\">\r\n       <defs>\r\n        <path d=\"M 19.1875 8.296875 \r\nL 53.609375 8.296875 \r\nL 53.609375 0 \r\nL 7.328125 0 \r\nL 7.328125 8.296875 \r\nQ 12.9375 14.109375 22.625 23.890625 \r\nQ 32.328125 33.6875 34.8125 36.53125 \r\nQ 39.546875 41.84375 41.421875 45.53125 \r\nQ 43.3125 49.21875 43.3125 52.78125 \r\nQ 43.3125 58.59375 39.234375 62.25 \r\nQ 35.15625 65.921875 28.609375 65.921875 \r\nQ 23.96875 65.921875 18.8125 64.3125 \r\nQ 13.671875 62.703125 7.8125 59.421875 \r\nL 7.8125 69.390625 \r\nQ 13.765625 71.78125 18.9375 73 \r\nQ 24.125 74.21875 28.421875 74.21875 \r\nQ 39.75 74.21875 46.484375 68.546875 \r\nQ 53.21875 62.890625 53.21875 53.421875 \r\nQ 53.21875 48.921875 51.53125 44.890625 \r\nQ 49.859375 40.875 45.40625 35.40625 \r\nQ 44.1875 33.984375 37.640625 27.21875 \r\nQ 31.109375 20.453125 19.1875 8.296875 \r\nz\r\n\" id=\"DejaVuSans-50\"/>\r\n       </defs>\r\n       <use xlink:href=\"#DejaVuSans-50\"/>\r\n       <use x=\"63.623047\" xlink:href=\"#DejaVuSans-48\"/>\r\n       <use x=\"127.246094\" xlink:href=\"#DejaVuSans-48\"/>\r\n      </g>\r\n     </g>\r\n    </g>\r\n    <g id=\"xtick_6\">\r\n     <g id=\"line2d_6\">\r\n      <g>\r\n       <use style=\"stroke:#000000;stroke-width:0.8;\" x=\"277.024959\" xlink:href=\"#mb263d26dd1\" y=\"224.64\"/>\r\n      </g>\r\n     </g>\r\n     <g id=\"text_6\">\r\n      <!-- 250 -->\r\n      <g transform=\"translate(267.481209 239.238438)scale(0.1 -0.1)\">\r\n       <use xlink:href=\"#DejaVuSans-50\"/>\r\n       <use x=\"63.623047\" xlink:href=\"#DejaVuSans-53\"/>\r\n       <use x=\"127.246094\" xlink:href=\"#DejaVuSans-48\"/>\r\n      </g>\r\n     </g>\r\n    </g>\r\n    <g id=\"xtick_7\">\r\n     <g id=\"line2d_7\">\r\n      <g>\r\n       <use style=\"stroke:#000000;stroke-width:0.8;\" x=\"320.630065\" xlink:href=\"#mb263d26dd1\" y=\"224.64\"/>\r\n      </g>\r\n     </g>\r\n     <g id=\"text_7\">\r\n      <!-- 300 -->\r\n      <g transform=\"translate(311.086315 239.238438)scale(0.1 -0.1)\">\r\n       <defs>\r\n        <path d=\"M 40.578125 39.3125 \r\nQ 47.65625 37.796875 51.625 33 \r\nQ 55.609375 28.21875 55.609375 21.1875 \r\nQ 55.609375 10.40625 48.1875 4.484375 \r\nQ 40.765625 -1.421875 27.09375 -1.421875 \r\nQ 22.515625 -1.421875 17.65625 -0.515625 \r\nQ 12.796875 0.390625 7.625 2.203125 \r\nL 7.625 11.71875 \r\nQ 11.71875 9.328125 16.59375 8.109375 \r\nQ 21.484375 6.890625 26.8125 6.890625 \r\nQ 36.078125 6.890625 40.9375 10.546875 \r\nQ 45.796875 14.203125 45.796875 21.1875 \r\nQ 45.796875 27.640625 41.28125 31.265625 \r\nQ 36.765625 34.90625 28.71875 34.90625 \r\nL 20.21875 34.90625 \r\nL 20.21875 43.015625 \r\nL 29.109375 43.015625 \r\nQ 36.375 43.015625 40.234375 45.921875 \r\nQ 44.09375 48.828125 44.09375 54.296875 \r\nQ 44.09375 59.90625 40.109375 62.90625 \r\nQ 36.140625 65.921875 28.71875 65.921875 \r\nQ 24.65625 65.921875 20.015625 65.03125 \r\nQ 15.375 64.15625 9.8125 62.3125 \r\nL 9.8125 71.09375 \r\nQ 15.4375 72.65625 20.34375 73.4375 \r\nQ 25.25 74.21875 29.59375 74.21875 \r\nQ 40.828125 74.21875 47.359375 69.109375 \r\nQ 53.90625 64.015625 53.90625 55.328125 \r\nQ 53.90625 49.265625 50.4375 45.09375 \r\nQ 46.96875 40.921875 40.578125 39.3125 \r\nz\r\n\" id=\"DejaVuSans-51\"/>\r\n       </defs>\r\n       <use xlink:href=\"#DejaVuSans-51\"/>\r\n       <use x=\"63.623047\" xlink:href=\"#DejaVuSans-48\"/>\r\n       <use x=\"127.246094\" xlink:href=\"#DejaVuSans-48\"/>\r\n      </g>\r\n     </g>\r\n    </g>\r\n    <g id=\"xtick_8\">\r\n     <g id=\"line2d_8\">\r\n      <g>\r\n       <use style=\"stroke:#000000;stroke-width:0.8;\" x=\"364.23517\" xlink:href=\"#mb263d26dd1\" y=\"224.64\"/>\r\n      </g>\r\n     </g>\r\n     <g id=\"text_8\">\r\n      <!-- 350 -->\r\n      <g transform=\"translate(354.69142 239.238438)scale(0.1 -0.1)\">\r\n       <use xlink:href=\"#DejaVuSans-51\"/>\r\n       <use x=\"63.623047\" xlink:href=\"#DejaVuSans-53\"/>\r\n       <use x=\"127.246094\" xlink:href=\"#DejaVuSans-48\"/>\r\n      </g>\r\n     </g>\r\n    </g>\r\n    <g id=\"text_9\">\r\n     <!-- Epochen -->\r\n     <g transform=\"translate(189.625 252.916563)scale(0.1 -0.1)\">\r\n      <defs>\r\n       <path d=\"M 9.8125 72.90625 \r\nL 55.90625 72.90625 \r\nL 55.90625 64.59375 \r\nL 19.671875 64.59375 \r\nL 19.671875 43.015625 \r\nL 54.390625 43.015625 \r\nL 54.390625 34.71875 \r\nL 19.671875 34.71875 \r\nL 19.671875 8.296875 \r\nL 56.78125 8.296875 \r\nL 56.78125 0 \r\nL 9.8125 0 \r\nz\r\n\" id=\"DejaVuSans-69\"/>\r\n       <path d=\"M 18.109375 8.203125 \r\nL 18.109375 -20.796875 \r\nL 9.078125 -20.796875 \r\nL 9.078125 54.6875 \r\nL 18.109375 54.6875 \r\nL 18.109375 46.390625 \r\nQ 20.953125 51.265625 25.265625 53.625 \r\nQ 29.59375 56 35.59375 56 \r\nQ 45.5625 56 51.78125 48.09375 \r\nQ 58.015625 40.1875 58.015625 27.296875 \r\nQ 58.015625 14.40625 51.78125 6.484375 \r\nQ 45.5625 -1.421875 35.59375 -1.421875 \r\nQ 29.59375 -1.421875 25.265625 0.953125 \r\nQ 20.953125 3.328125 18.109375 8.203125 \r\nz\r\nM 48.6875 27.296875 \r\nQ 48.6875 37.203125 44.609375 42.84375 \r\nQ 40.53125 48.484375 33.40625 48.484375 \r\nQ 26.265625 48.484375 22.1875 42.84375 \r\nQ 18.109375 37.203125 18.109375 27.296875 \r\nQ 18.109375 17.390625 22.1875 11.75 \r\nQ 26.265625 6.109375 33.40625 6.109375 \r\nQ 40.53125 6.109375 44.609375 11.75 \r\nQ 48.6875 17.390625 48.6875 27.296875 \r\nz\r\n\" id=\"DejaVuSans-112\"/>\r\n       <path d=\"M 30.609375 48.390625 \r\nQ 23.390625 48.390625 19.1875 42.75 \r\nQ 14.984375 37.109375 14.984375 27.296875 \r\nQ 14.984375 17.484375 19.15625 11.84375 \r\nQ 23.34375 6.203125 30.609375 6.203125 \r\nQ 37.796875 6.203125 41.984375 11.859375 \r\nQ 46.1875 17.53125 46.1875 27.296875 \r\nQ 46.1875 37.015625 41.984375 42.703125 \r\nQ 37.796875 48.390625 30.609375 48.390625 \r\nz\r\nM 30.609375 56 \r\nQ 42.328125 56 49.015625 48.375 \r\nQ 55.71875 40.765625 55.71875 27.296875 \r\nQ 55.71875 13.875 49.015625 6.21875 \r\nQ 42.328125 -1.421875 30.609375 -1.421875 \r\nQ 18.84375 -1.421875 12.171875 6.21875 \r\nQ 5.515625 13.875 5.515625 27.296875 \r\nQ 5.515625 40.765625 12.171875 48.375 \r\nQ 18.84375 56 30.609375 56 \r\nz\r\n\" id=\"DejaVuSans-111\"/>\r\n       <path d=\"M 48.78125 52.59375 \r\nL 48.78125 44.1875 \r\nQ 44.96875 46.296875 41.140625 47.34375 \r\nQ 37.3125 48.390625 33.40625 48.390625 \r\nQ 24.65625 48.390625 19.8125 42.84375 \r\nQ 14.984375 37.3125 14.984375 27.296875 \r\nQ 14.984375 17.28125 19.8125 11.734375 \r\nQ 24.65625 6.203125 33.40625 6.203125 \r\nQ 37.3125 6.203125 41.140625 7.25 \r\nQ 44.96875 8.296875 48.78125 10.40625 \r\nL 48.78125 2.09375 \r\nQ 45.015625 0.34375 40.984375 -0.53125 \r\nQ 36.96875 -1.421875 32.421875 -1.421875 \r\nQ 20.0625 -1.421875 12.78125 6.34375 \r\nQ 5.515625 14.109375 5.515625 27.296875 \r\nQ 5.515625 40.671875 12.859375 48.328125 \r\nQ 20.21875 56 33.015625 56 \r\nQ 37.15625 56 41.109375 55.140625 \r\nQ 45.0625 54.296875 48.78125 52.59375 \r\nz\r\n\" id=\"DejaVuSans-99\"/>\r\n       <path d=\"M 54.890625 33.015625 \r\nL 54.890625 0 \r\nL 45.90625 0 \r\nL 45.90625 32.71875 \r\nQ 45.90625 40.484375 42.875 44.328125 \r\nQ 39.84375 48.1875 33.796875 48.1875 \r\nQ 26.515625 48.1875 22.3125 43.546875 \r\nQ 18.109375 38.921875 18.109375 30.90625 \r\nL 18.109375 0 \r\nL 9.078125 0 \r\nL 9.078125 75.984375 \r\nL 18.109375 75.984375 \r\nL 18.109375 46.1875 \r\nQ 21.34375 51.125 25.703125 53.5625 \r\nQ 30.078125 56 35.796875 56 \r\nQ 45.21875 56 50.046875 50.171875 \r\nQ 54.890625 44.34375 54.890625 33.015625 \r\nz\r\n\" id=\"DejaVuSans-104\"/>\r\n       <path d=\"M 56.203125 29.59375 \r\nL 56.203125 25.203125 \r\nL 14.890625 25.203125 \r\nQ 15.484375 15.921875 20.484375 11.0625 \r\nQ 25.484375 6.203125 34.421875 6.203125 \r\nQ 39.59375 6.203125 44.453125 7.46875 \r\nQ 49.3125 8.734375 54.109375 11.28125 \r\nL 54.109375 2.78125 \r\nQ 49.265625 0.734375 44.1875 -0.34375 \r\nQ 39.109375 -1.421875 33.890625 -1.421875 \r\nQ 20.796875 -1.421875 13.15625 6.1875 \r\nQ 5.515625 13.8125 5.515625 26.8125 \r\nQ 5.515625 40.234375 12.765625 48.109375 \r\nQ 20.015625 56 32.328125 56 \r\nQ 43.359375 56 49.78125 48.890625 \r\nQ 56.203125 41.796875 56.203125 29.59375 \r\nz\r\nM 47.21875 32.234375 \r\nQ 47.125 39.59375 43.09375 43.984375 \r\nQ 39.0625 48.390625 32.421875 48.390625 \r\nQ 24.90625 48.390625 20.390625 44.140625 \r\nQ 15.875 39.890625 15.1875 32.171875 \r\nz\r\n\" id=\"DejaVuSans-101\"/>\r\n       <path d=\"M 54.890625 33.015625 \r\nL 54.890625 0 \r\nL 45.90625 0 \r\nL 45.90625 32.71875 \r\nQ 45.90625 40.484375 42.875 44.328125 \r\nQ 39.84375 48.1875 33.796875 48.1875 \r\nQ 26.515625 48.1875 22.3125 43.546875 \r\nQ 18.109375 38.921875 18.109375 30.90625 \r\nL 18.109375 0 \r\nL 9.078125 0 \r\nL 9.078125 54.6875 \r\nL 18.109375 54.6875 \r\nL 18.109375 46.1875 \r\nQ 21.34375 51.125 25.703125 53.5625 \r\nQ 30.078125 56 35.796875 56 \r\nQ 45.21875 56 50.046875 50.171875 \r\nQ 54.890625 44.34375 54.890625 33.015625 \r\nz\r\n\" id=\"DejaVuSans-110\"/>\r\n      </defs>\r\n      <use xlink:href=\"#DejaVuSans-69\"/>\r\n      <use x=\"63.183594\" xlink:href=\"#DejaVuSans-112\"/>\r\n      <use x=\"126.660156\" xlink:href=\"#DejaVuSans-111\"/>\r\n      <use x=\"187.841797\" xlink:href=\"#DejaVuSans-99\"/>\r\n      <use x=\"242.822266\" xlink:href=\"#DejaVuSans-104\"/>\r\n      <use x=\"306.201172\" xlink:href=\"#DejaVuSans-101\"/>\r\n      <use x=\"367.724609\" xlink:href=\"#DejaVuSans-110\"/>\r\n     </g>\r\n    </g>\r\n   </g>\r\n   <g id=\"matplotlib.axis_2\">\r\n    <g id=\"ytick_1\">\r\n     <g id=\"line2d_9\">\r\n      <defs>\r\n       <path d=\"M 0 0 \r\nL -3.5 0 \r\n\" id=\"md8e1a4da6e\" style=\"stroke:#000000;stroke-width:0.8;\"/>\r\n      </defs>\r\n      <g>\r\n       <use style=\"stroke:#000000;stroke-width:0.8;\" x=\"43.78125\" xlink:href=\"#md8e1a4da6e\" y=\"191.380396\"/>\r\n      </g>\r\n     </g>\r\n     <g id=\"text_10\">\r\n      <!-- 0.2 -->\r\n      <g transform=\"translate(20.878125 195.179615)scale(0.1 -0.1)\">\r\n       <defs>\r\n        <path d=\"M 10.6875 12.40625 \r\nL 21 12.40625 \r\nL 21 0 \r\nL 10.6875 0 \r\nz\r\n\" id=\"DejaVuSans-46\"/>\r\n       </defs>\r\n       <use xlink:href=\"#DejaVuSans-48\"/>\r\n       <use x=\"63.623047\" xlink:href=\"#DejaVuSans-46\"/>\r\n       <use x=\"95.410156\" xlink:href=\"#DejaVuSans-50\"/>\r\n      </g>\r\n     </g>\r\n    </g>\r\n    <g id=\"ytick_2\">\r\n     <g id=\"line2d_10\">\r\n      <g>\r\n       <use style=\"stroke:#000000;stroke-width:0.8;\" x=\"43.78125\" xlink:href=\"#md8e1a4da6e\" y=\"157.114792\"/>\r\n      </g>\r\n     </g>\r\n     <g id=\"text_11\">\r\n      <!-- 0.4 -->\r\n      <g transform=\"translate(20.878125 160.914011)scale(0.1 -0.1)\">\r\n       <defs>\r\n        <path d=\"M 37.796875 64.3125 \r\nL 12.890625 25.390625 \r\nL 37.796875 25.390625 \r\nz\r\nM 35.203125 72.90625 \r\nL 47.609375 72.90625 \r\nL 47.609375 25.390625 \r\nL 58.015625 25.390625 \r\nL 58.015625 17.1875 \r\nL 47.609375 17.1875 \r\nL 47.609375 0 \r\nL 37.796875 0 \r\nL 37.796875 17.1875 \r\nL 4.890625 17.1875 \r\nL 4.890625 26.703125 \r\nz\r\n\" id=\"DejaVuSans-52\"/>\r\n       </defs>\r\n       <use xlink:href=\"#DejaVuSans-48\"/>\r\n       <use x=\"63.623047\" xlink:href=\"#DejaVuSans-46\"/>\r\n       <use x=\"95.410156\" xlink:href=\"#DejaVuSans-52\"/>\r\n      </g>\r\n     </g>\r\n    </g>\r\n    <g id=\"ytick_3\">\r\n     <g id=\"line2d_11\">\r\n      <g>\r\n       <use style=\"stroke:#000000;stroke-width:0.8;\" x=\"43.78125\" xlink:href=\"#md8e1a4da6e\" y=\"122.849188\"/>\r\n      </g>\r\n     </g>\r\n     <g id=\"text_12\">\r\n      <!-- 0.6 -->\r\n      <g transform=\"translate(20.878125 126.648406)scale(0.1 -0.1)\">\r\n       <defs>\r\n        <path d=\"M 33.015625 40.375 \r\nQ 26.375 40.375 22.484375 35.828125 \r\nQ 18.609375 31.296875 18.609375 23.390625 \r\nQ 18.609375 15.53125 22.484375 10.953125 \r\nQ 26.375 6.390625 33.015625 6.390625 \r\nQ 39.65625 6.390625 43.53125 10.953125 \r\nQ 47.40625 15.53125 47.40625 23.390625 \r\nQ 47.40625 31.296875 43.53125 35.828125 \r\nQ 39.65625 40.375 33.015625 40.375 \r\nz\r\nM 52.59375 71.296875 \r\nL 52.59375 62.3125 \r\nQ 48.875 64.0625 45.09375 64.984375 \r\nQ 41.3125 65.921875 37.59375 65.921875 \r\nQ 27.828125 65.921875 22.671875 59.328125 \r\nQ 17.53125 52.734375 16.796875 39.40625 \r\nQ 19.671875 43.65625 24.015625 45.921875 \r\nQ 28.375 48.1875 33.59375 48.1875 \r\nQ 44.578125 48.1875 50.953125 41.515625 \r\nQ 57.328125 34.859375 57.328125 23.390625 \r\nQ 57.328125 12.15625 50.6875 5.359375 \r\nQ 44.046875 -1.421875 33.015625 -1.421875 \r\nQ 20.359375 -1.421875 13.671875 8.265625 \r\nQ 6.984375 17.96875 6.984375 36.375 \r\nQ 6.984375 53.65625 15.1875 63.9375 \r\nQ 23.390625 74.21875 37.203125 74.21875 \r\nQ 40.921875 74.21875 44.703125 73.484375 \r\nQ 48.484375 72.75 52.59375 71.296875 \r\nz\r\n\" id=\"DejaVuSans-54\"/>\r\n       </defs>\r\n       <use xlink:href=\"#DejaVuSans-48\"/>\r\n       <use x=\"63.623047\" xlink:href=\"#DejaVuSans-46\"/>\r\n       <use x=\"95.410156\" xlink:href=\"#DejaVuSans-54\"/>\r\n      </g>\r\n     </g>\r\n    </g>\r\n    <g id=\"ytick_4\">\r\n     <g id=\"line2d_12\">\r\n      <g>\r\n       <use style=\"stroke:#000000;stroke-width:0.8;\" x=\"43.78125\" xlink:href=\"#md8e1a4da6e\" y=\"88.583583\"/>\r\n      </g>\r\n     </g>\r\n     <g id=\"text_13\">\r\n      <!-- 0.8 -->\r\n      <g transform=\"translate(20.878125 92.382802)scale(0.1 -0.1)\">\r\n       <defs>\r\n        <path d=\"M 31.78125 34.625 \r\nQ 24.75 34.625 20.71875 30.859375 \r\nQ 16.703125 27.09375 16.703125 20.515625 \r\nQ 16.703125 13.921875 20.71875 10.15625 \r\nQ 24.75 6.390625 31.78125 6.390625 \r\nQ 38.8125 6.390625 42.859375 10.171875 \r\nQ 46.921875 13.96875 46.921875 20.515625 \r\nQ 46.921875 27.09375 42.890625 30.859375 \r\nQ 38.875 34.625 31.78125 34.625 \r\nz\r\nM 21.921875 38.8125 \r\nQ 15.578125 40.375 12.03125 44.71875 \r\nQ 8.5 49.078125 8.5 55.328125 \r\nQ 8.5 64.0625 14.71875 69.140625 \r\nQ 20.953125 74.21875 31.78125 74.21875 \r\nQ 42.671875 74.21875 48.875 69.140625 \r\nQ 55.078125 64.0625 55.078125 55.328125 \r\nQ 55.078125 49.078125 51.53125 44.71875 \r\nQ 48 40.375 41.703125 38.8125 \r\nQ 48.828125 37.15625 52.796875 32.3125 \r\nQ 56.78125 27.484375 56.78125 20.515625 \r\nQ 56.78125 9.90625 50.3125 4.234375 \r\nQ 43.84375 -1.421875 31.78125 -1.421875 \r\nQ 19.734375 -1.421875 13.25 4.234375 \r\nQ 6.78125 9.90625 6.78125 20.515625 \r\nQ 6.78125 27.484375 10.78125 32.3125 \r\nQ 14.796875 37.15625 21.921875 38.8125 \r\nz\r\nM 18.3125 54.390625 \r\nQ 18.3125 48.734375 21.84375 45.5625 \r\nQ 25.390625 42.390625 31.78125 42.390625 \r\nQ 38.140625 42.390625 41.71875 45.5625 \r\nQ 45.3125 48.734375 45.3125 54.390625 \r\nQ 45.3125 60.0625 41.71875 63.234375 \r\nQ 38.140625 66.40625 31.78125 66.40625 \r\nQ 25.390625 66.40625 21.84375 63.234375 \r\nQ 18.3125 60.0625 18.3125 54.390625 \r\nz\r\n\" id=\"DejaVuSans-56\"/>\r\n       </defs>\r\n       <use xlink:href=\"#DejaVuSans-48\"/>\r\n       <use x=\"63.623047\" xlink:href=\"#DejaVuSans-46\"/>\r\n       <use x=\"95.410156\" xlink:href=\"#DejaVuSans-56\"/>\r\n      </g>\r\n     </g>\r\n    </g>\r\n    <g id=\"ytick_5\">\r\n     <g id=\"line2d_13\">\r\n      <g>\r\n       <use style=\"stroke:#000000;stroke-width:0.8;\" x=\"43.78125\" xlink:href=\"#md8e1a4da6e\" y=\"54.317979\"/>\r\n      </g>\r\n     </g>\r\n     <g id=\"text_14\">\r\n      <!-- 1.0 -->\r\n      <g transform=\"translate(20.878125 58.117197)scale(0.1 -0.1)\">\r\n       <use xlink:href=\"#DejaVuSans-49\"/>\r\n       <use x=\"63.623047\" xlink:href=\"#DejaVuSans-46\"/>\r\n       <use x=\"95.410156\" xlink:href=\"#DejaVuSans-48\"/>\r\n      </g>\r\n     </g>\r\n    </g>\r\n    <g id=\"ytick_6\">\r\n     <g id=\"line2d_14\">\r\n      <g>\r\n       <use style=\"stroke:#000000;stroke-width:0.8;\" x=\"43.78125\" xlink:href=\"#md8e1a4da6e\" y=\"20.052374\"/>\r\n      </g>\r\n     </g>\r\n     <g id=\"text_15\">\r\n      <!-- 1.2 -->\r\n      <g transform=\"translate(20.878125 23.851593)scale(0.1 -0.1)\">\r\n       <use xlink:href=\"#DejaVuSans-49\"/>\r\n       <use x=\"63.623047\" xlink:href=\"#DejaVuSans-46\"/>\r\n       <use x=\"95.410156\" xlink:href=\"#DejaVuSans-50\"/>\r\n      </g>\r\n     </g>\r\n    </g>\r\n    <g id=\"text_16\">\r\n     <!-- Loss (cross-entropy loss) -->\r\n     <g transform=\"translate(14.798438 177.730938)rotate(-90)scale(0.1 -0.1)\">\r\n      <defs>\r\n       <path d=\"M 9.8125 72.90625 \r\nL 19.671875 72.90625 \r\nL 19.671875 8.296875 \r\nL 55.171875 8.296875 \r\nL 55.171875 0 \r\nL 9.8125 0 \r\nz\r\n\" id=\"DejaVuSans-76\"/>\r\n       <path d=\"M 44.28125 53.078125 \r\nL 44.28125 44.578125 \r\nQ 40.484375 46.53125 36.375 47.5 \r\nQ 32.28125 48.484375 27.875 48.484375 \r\nQ 21.1875 48.484375 17.84375 46.4375 \r\nQ 14.5 44.390625 14.5 40.28125 \r\nQ 14.5 37.15625 16.890625 35.375 \r\nQ 19.28125 33.59375 26.515625 31.984375 \r\nL 29.59375 31.296875 \r\nQ 39.15625 29.25 43.1875 25.515625 \r\nQ 47.21875 21.78125 47.21875 15.09375 \r\nQ 47.21875 7.46875 41.1875 3.015625 \r\nQ 35.15625 -1.421875 24.609375 -1.421875 \r\nQ 20.21875 -1.421875 15.453125 -0.5625 \r\nQ 10.6875 0.296875 5.421875 2 \r\nL 5.421875 11.28125 \r\nQ 10.40625 8.6875 15.234375 7.390625 \r\nQ 20.0625 6.109375 24.8125 6.109375 \r\nQ 31.15625 6.109375 34.5625 8.28125 \r\nQ 37.984375 10.453125 37.984375 14.40625 \r\nQ 37.984375 18.0625 35.515625 20.015625 \r\nQ 33.0625 21.96875 24.703125 23.78125 \r\nL 21.578125 24.515625 \r\nQ 13.234375 26.265625 9.515625 29.90625 \r\nQ 5.8125 33.546875 5.8125 39.890625 \r\nQ 5.8125 47.609375 11.28125 51.796875 \r\nQ 16.75 56 26.8125 56 \r\nQ 31.78125 56 36.171875 55.265625 \r\nQ 40.578125 54.546875 44.28125 53.078125 \r\nz\r\n\" id=\"DejaVuSans-115\"/>\r\n       <path id=\"DejaVuSans-32\"/>\r\n       <path d=\"M 31 75.875 \r\nQ 24.46875 64.65625 21.28125 53.65625 \r\nQ 18.109375 42.671875 18.109375 31.390625 \r\nQ 18.109375 20.125 21.3125 9.0625 \r\nQ 24.515625 -2 31 -13.1875 \r\nL 23.1875 -13.1875 \r\nQ 15.875 -1.703125 12.234375 9.375 \r\nQ 8.59375 20.453125 8.59375 31.390625 \r\nQ 8.59375 42.28125 12.203125 53.3125 \r\nQ 15.828125 64.359375 23.1875 75.875 \r\nz\r\n\" id=\"DejaVuSans-40\"/>\r\n       <path d=\"M 41.109375 46.296875 \r\nQ 39.59375 47.171875 37.8125 47.578125 \r\nQ 36.03125 48 33.890625 48 \r\nQ 26.265625 48 22.1875 43.046875 \r\nQ 18.109375 38.09375 18.109375 28.8125 \r\nL 18.109375 0 \r\nL 9.078125 0 \r\nL 9.078125 54.6875 \r\nL 18.109375 54.6875 \r\nL 18.109375 46.1875 \r\nQ 20.953125 51.171875 25.484375 53.578125 \r\nQ 30.03125 56 36.53125 56 \r\nQ 37.453125 56 38.578125 55.875 \r\nQ 39.703125 55.765625 41.0625 55.515625 \r\nz\r\n\" id=\"DejaVuSans-114\"/>\r\n       <path d=\"M 4.890625 31.390625 \r\nL 31.203125 31.390625 \r\nL 31.203125 23.390625 \r\nL 4.890625 23.390625 \r\nz\r\n\" id=\"DejaVuSans-45\"/>\r\n       <path d=\"M 18.3125 70.21875 \r\nL 18.3125 54.6875 \r\nL 36.8125 54.6875 \r\nL 36.8125 47.703125 \r\nL 18.3125 47.703125 \r\nL 18.3125 18.015625 \r\nQ 18.3125 11.328125 20.140625 9.421875 \r\nQ 21.96875 7.515625 27.59375 7.515625 \r\nL 36.8125 7.515625 \r\nL 36.8125 0 \r\nL 27.59375 0 \r\nQ 17.1875 0 13.234375 3.875 \r\nQ 9.28125 7.765625 9.28125 18.015625 \r\nL 9.28125 47.703125 \r\nL 2.6875 47.703125 \r\nL 2.6875 54.6875 \r\nL 9.28125 54.6875 \r\nL 9.28125 70.21875 \r\nz\r\n\" id=\"DejaVuSans-116\"/>\r\n       <path d=\"M 32.171875 -5.078125 \r\nQ 28.375 -14.84375 24.75 -17.8125 \r\nQ 21.140625 -20.796875 15.09375 -20.796875 \r\nL 7.90625 -20.796875 \r\nL 7.90625 -13.28125 \r\nL 13.1875 -13.28125 \r\nQ 16.890625 -13.28125 18.9375 -11.515625 \r\nQ 21 -9.765625 23.484375 -3.21875 \r\nL 25.09375 0.875 \r\nL 2.984375 54.6875 \r\nL 12.5 54.6875 \r\nL 29.59375 11.921875 \r\nL 46.6875 54.6875 \r\nL 56.203125 54.6875 \r\nz\r\n\" id=\"DejaVuSans-121\"/>\r\n       <path d=\"M 9.421875 75.984375 \r\nL 18.40625 75.984375 \r\nL 18.40625 0 \r\nL 9.421875 0 \r\nz\r\n\" id=\"DejaVuSans-108\"/>\r\n       <path d=\"M 8.015625 75.875 \r\nL 15.828125 75.875 \r\nQ 23.140625 64.359375 26.78125 53.3125 \r\nQ 30.421875 42.28125 30.421875 31.390625 \r\nQ 30.421875 20.453125 26.78125 9.375 \r\nQ 23.140625 -1.703125 15.828125 -13.1875 \r\nL 8.015625 -13.1875 \r\nQ 14.5 -2 17.703125 9.0625 \r\nQ 20.90625 20.125 20.90625 31.390625 \r\nQ 20.90625 42.671875 17.703125 53.65625 \r\nQ 14.5 64.65625 8.015625 75.875 \r\nz\r\n\" id=\"DejaVuSans-41\"/>\r\n      </defs>\r\n      <use xlink:href=\"#DejaVuSans-76\"/>\r\n      <use x=\"53.962891\" xlink:href=\"#DejaVuSans-111\"/>\r\n      <use x=\"115.144531\" xlink:href=\"#DejaVuSans-115\"/>\r\n      <use x=\"167.244141\" xlink:href=\"#DejaVuSans-115\"/>\r\n      <use x=\"219.34375\" xlink:href=\"#DejaVuSans-32\"/>\r\n      <use x=\"251.130859\" xlink:href=\"#DejaVuSans-40\"/>\r\n      <use x=\"290.144531\" xlink:href=\"#DejaVuSans-99\"/>\r\n      <use x=\"345.125\" xlink:href=\"#DejaVuSans-114\"/>\r\n      <use x=\"383.988281\" xlink:href=\"#DejaVuSans-111\"/>\r\n      <use x=\"445.169922\" xlink:href=\"#DejaVuSans-115\"/>\r\n      <use x=\"497.269531\" xlink:href=\"#DejaVuSans-115\"/>\r\n      <use x=\"549.369141\" xlink:href=\"#DejaVuSans-45\"/>\r\n      <use x=\"585.453125\" xlink:href=\"#DejaVuSans-101\"/>\r\n      <use x=\"646.976562\" xlink:href=\"#DejaVuSans-110\"/>\r\n      <use x=\"710.355469\" xlink:href=\"#DejaVuSans-116\"/>\r\n      <use x=\"749.564453\" xlink:href=\"#DejaVuSans-114\"/>\r\n      <use x=\"788.427734\" xlink:href=\"#DejaVuSans-111\"/>\r\n      <use x=\"849.609375\" xlink:href=\"#DejaVuSans-112\"/>\r\n      <use x=\"913.085938\" xlink:href=\"#DejaVuSans-121\"/>\r\n      <use x=\"972.265625\" xlink:href=\"#DejaVuSans-32\"/>\r\n      <use x=\"1004.052734\" xlink:href=\"#DejaVuSans-108\"/>\r\n      <use x=\"1031.835938\" xlink:href=\"#DejaVuSans-111\"/>\r\n      <use x=\"1093.017578\" xlink:href=\"#DejaVuSans-115\"/>\r\n      <use x=\"1145.117188\" xlink:href=\"#DejaVuSans-115\"/>\r\n      <use x=\"1197.216797\" xlink:href=\"#DejaVuSans-41\"/>\r\n     </g>\r\n    </g>\r\n   </g>\r\n   <g id=\"line2d_15\">\r\n    <path clip-path=\"url(#padf6ff20d4)\" d=\"M 58.999432 17.083636 \r\nL 60.743636 25.380162 \r\nL 67.720453 54.384646 \r\nL 72.080963 75.715624 \r\nL 74.69727 88.937184 \r\nL 76.441474 96.671586 \r\nL 78.185678 103.09655 \r\nL 79.929882 108.413085 \r\nL 81.674087 112.842701 \r\nL 83.418291 116.763274 \r\nL 85.162495 119.980749 \r\nL 86.906699 122.76924 \r\nL 88.650904 125.177502 \r\nL 90.395108 127.290113 \r\nL 91.26721 128.26039 \r\nL 92.139312 129.047067 \r\nL 93.883516 130.866912 \r\nL 96.499823 133.020084 \r\nL 100.860333 135.78732 \r\nL 103.476639 137.194066 \r\nL 108.709252 139.791032 \r\nL 111.325558 141.161219 \r\nL 114.813967 143.099893 \r\nL 120.918682 147.215624 \r\nL 126.151294 151.246364 \r\nL 127.023396 152.247179 \r\nL 127.895499 152.879721 \r\nL 128.767601 153.678966 \r\nL 129.639703 154.630564 \r\nL 130.511805 155.28419 \r\nL 132.256009 157.172044 \r\nL 133.128111 158.032273 \r\nL 134.000213 158.654542 \r\nL 134.872315 159.758007 \r\nL 136.61652 161.528308 \r\nL 137.488622 162.604414 \r\nL 138.360724 163.356772 \r\nL 140.104928 165.388139 \r\nL 147.953847 173.558615 \r\nL 148.825949 174.447519 \r\nL 149.698051 175.153845 \r\nL 152.314358 177.70988 \r\nL 153.18646 178.327213 \r\nL 154.058562 178.767401 \r\nL 154.930664 180.014514 \r\nL 156.674868 181.329945 \r\nL 157.54697 182.147653 \r\nL 158.419072 182.810611 \r\nL 159.291174 183.179883 \r\nL 160.163277 183.689015 \r\nL 161.035379 184.696382 \r\nL 161.907481 185.166761 \r\nL 164.523787 187.108118 \r\nL 165.395889 187.531018 \r\nL 168.012196 189.232375 \r\nL 168.884298 189.623179 \r\nL 169.7564 190.226231 \r\nL 170.628502 190.68521 \r\nL 171.500604 190.936004 \r\nL 172.372706 191.744073 \r\nL 173.244808 191.651812 \r\nL 174.11691 192.573848 \r\nL 174.989012 192.543344 \r\nL 175.861115 193.469388 \r\nL 176.733217 193.537937 \r\nL 178.477421 194.404812 \r\nL 179.349523 194.761227 \r\nL 180.221625 194.945587 \r\nL 181.093727 195.532473 \r\nL 181.965829 195.764356 \r\nL 182.837931 196.217423 \r\nL 183.710034 196.208692 \r\nL 184.582136 196.014526 \r\nL 185.454238 197.061233 \r\nL 186.32634 197.338439 \r\nL 187.198442 197.248749 \r\nL 188.070544 198.022111 \r\nL 191.558953 198.992491 \r\nL 192.431055 199.037479 \r\nL 193.303157 199.642642 \r\nL 194.175259 199.146494 \r\nL 195.047361 200.056482 \r\nL 195.919463 199.926428 \r\nL 196.791565 200.477805 \r\nL 197.663667 200.497104 \r\nL 198.535769 199.98034 \r\nL 199.407872 201.225378 \r\nL 200.279974 200.989662 \r\nL 201.152076 201.566674 \r\nL 202.024178 201.377188 \r\nL 202.89628 201.998177 \r\nL 203.768382 201.995814 \r\nL 204.640484 201.220466 \r\nL 205.512586 201.775286 \r\nL 206.384688 202.674413 \r\nL 208.128893 202.521003 \r\nL 209.000995 201.849693 \r\nL 209.873097 203.482459 \r\nL 210.745199 203.311131 \r\nL 211.617301 203.792012 \r\nL 212.489403 203.844682 \r\nL 213.361505 204.068822 \r\nL 214.233607 203.709236 \r\nL 215.105709 204.37995 \r\nL 216.849914 204.572126 \r\nL 217.722016 204.479341 \r\nL 218.594118 204.824414 \r\nL 219.46622 204.988804 \r\nL 220.338322 205.022102 \r\nL 221.210424 205.420612 \r\nL 226.443037 206.062516 \r\nL 227.315139 205.604577 \r\nL 228.187241 206.495244 \r\nL 229.059343 206.267899 \r\nL 229.931445 206.657664 \r\nL 230.803547 205.932525 \r\nL 231.67565 205.867987 \r\nL 233.419854 207.115357 \r\nL 234.291956 207.173559 \r\nL 235.164058 207.113788 \r\nL 236.03616 207.422014 \r\nL 236.908262 207.503046 \r\nL 237.780364 207.457844 \r\nL 239.524569 207.618892 \r\nL 240.396671 207.919326 \r\nL 241.268773 207.722168 \r\nL 242.140875 208.147281 \r\nL 243.012977 208.01182 \r\nL 243.885079 208.27285 \r\nL 244.757181 208.274173 \r\nL 245.629283 207.884604 \r\nL 246.501385 208.438033 \r\nL 248.24559 208.71452 \r\nL 249.117692 208.593254 \r\nL 250.861896 209.015404 \r\nL 252.6061 208.668498 \r\nL 253.478202 208.369757 \r\nL 254.350304 209.250806 \r\nL 255.222407 209.175383 \r\nL 256.094509 208.82877 \r\nL 256.966611 209.357078 \r\nL 257.838713 209.253841 \r\nL 258.710815 209.665835 \r\nL 259.582917 209.490125 \r\nL 260.455019 209.821753 \r\nL 261.327121 209.448891 \r\nL 262.199223 209.354849 \r\nL 263.071326 210.010408 \r\nL 263.943428 209.647698 \r\nL 264.81553 209.986632 \r\nL 265.687632 209.562102 \r\nL 266.559734 210.14468 \r\nL 267.431836 209.868215 \r\nL 268.303938 210.123216 \r\nL 269.17604 210.56828 \r\nL 270.048142 210.44185 \r\nL 271.792347 210.692626 \r\nL 273.536551 210.794226 \r\nL 274.408653 210.833902 \r\nL 275.280755 210.638322 \r\nL 277.024959 210.928973 \r\nL 278.769164 211.109638 \r\nL 279.641266 210.983403 \r\nL 280.513368 211.245695 \r\nL 283.129674 211.232968 \r\nL 284.001776 211.424167 \r\nL 287.490185 211.593002 \r\nL 288.362287 211.496941 \r\nL 289.234389 211.76007 \r\nL 290.978593 211.256565 \r\nL 291.850695 211.74184 \r\nL 295.339104 211.800021 \r\nL 296.211206 212.077129 \r\nL 297.083308 212.013163 \r\nL 298.827512 212.256712 \r\nL 299.699614 212.25854 \r\nL 301.443818 212.438471 \r\nL 302.31592 211.894629 \r\nL 303.188023 212.758266 \r\nL 304.060125 211.918235 \r\nL 304.932227 212.650351 \r\nL 305.804329 212.619446 \r\nL 306.676431 212.179293 \r\nL 307.548533 212.760604 \r\nL 311.036942 212.697097 \r\nL 311.909044 212.983045 \r\nL 312.781146 212.99818 \r\nL 313.653248 212.692 \r\nL 314.52535 212.686634 \r\nL 315.397452 213.102564 \r\nL 316.269554 213.144035 \r\nL 317.141656 212.78259 \r\nL 318.013758 213.222087 \r\nL 318.885861 213.126666 \r\nL 319.757963 213.29007 \r\nL 320.630065 213.144589 \r\nL 321.502167 213.243495 \r\nL 322.374269 212.54032 \r\nL 323.246371 213.361235 \r\nL 324.990575 213.417057 \r\nL 325.862677 213.58924 \r\nL 327.606882 213.276324 \r\nL 328.478984 213.452487 \r\nL 331.967392 213.636226 \r\nL 332.839494 213.444053 \r\nL 334.583699 213.786543 \r\nL 335.455801 213.696965 \r\nL 337.200005 213.88073 \r\nL 338.072107 213.88546 \r\nL 338.944209 213.668903 \r\nL 339.816311 214.121599 \r\nL 340.688413 213.802954 \r\nL 341.560515 213.984682 \r\nL 343.30472 213.440066 \r\nL 344.176822 214.075029 \r\nL 345.048924 213.791851 \r\nL 345.921026 214.304899 \r\nL 346.793128 214.10407 \r\nL 347.66523 214.265315 \r\nL 348.537332 213.735656 \r\nL 349.409434 214.298753 \r\nL 350.281537 214.082504 \r\nL 351.153639 214.298323 \r\nL 352.025741 213.873986 \r\nL 352.897843 214.048611 \r\nL 353.769945 213.161474 \r\nL 354.642047 214.350406 \r\nL 355.514149 214.122482 \r\nL 356.386251 214.428938 \r\nL 357.258353 214.106098 \r\nL 358.130456 214.558848 \r\nL 359.87466 214.183839 \r\nL 360.746762 214.756364 \r\nL 362.490966 213.77627 \r\nL 363.363068 214.429869 \r\nL 363.363068 214.429869 \r\n\" style=\"fill:none;stroke:#1f77b4;stroke-linecap:square;stroke-width:1.5;\"/>\r\n   </g>\r\n   <g id=\"patch_3\">\r\n    <path d=\"M 43.78125 224.64 \r\nL 43.78125 7.2 \r\n\" style=\"fill:none;stroke:#000000;stroke-linecap:square;stroke-linejoin:miter;stroke-width:0.8;\"/>\r\n   </g>\r\n   <g id=\"patch_4\">\r\n    <path d=\"M 378.58125 224.64 \r\nL 378.58125 7.2 \r\n\" style=\"fill:none;stroke:#000000;stroke-linecap:square;stroke-linejoin:miter;stroke-width:0.8;\"/>\r\n   </g>\r\n   <g id=\"patch_5\">\r\n    <path d=\"M 43.78125 224.64 \r\nL 378.58125 224.64 \r\n\" style=\"fill:none;stroke:#000000;stroke-linecap:square;stroke-linejoin:miter;stroke-width:0.8;\"/>\r\n   </g>\r\n   <g id=\"patch_6\">\r\n    <path d=\"M 43.78125 7.2 \r\nL 378.58125 7.2 \r\n\" style=\"fill:none;stroke:#000000;stroke-linecap:square;stroke-linejoin:miter;stroke-width:0.8;\"/>\r\n   </g>\r\n  </g>\r\n </g>\r\n <defs>\r\n  <clipPath id=\"padf6ff20d4\">\r\n   <rect height=\"217.44\" width=\"334.8\" x=\"43.78125\" y=\"7.2\"/>\r\n  </clipPath>\r\n </defs>\r\n</svg>\r\n",
      "image/png": "[encoded data removed]"
     },
     "metadata": {
      "needs_background": "light"
     }
    }
   ],
   "source": [
    "# Die Loss-Kurve wird visualisiert und in der Datei Plot_of_loss_values.png im PNG-Format gespeichert.\n",
    "loss_values = mlp.loss_curve_\n",
    "plt.plot(loss_values)\n",
    "plt.xlabel(\"Epochen\")\n",
    "plt.ylabel(\"Loss (cross-entropy loss)\")\n",
    "plt.savefig(\"./Plot_of_loss_values.png\")\n",
    "plt.show()"
   ]
  },
  {
   "cell_type": "code",
   "execution_count": null,
   "metadata": {},
   "outputs": [],
   "source": []
  }
 ],
 "metadata": {
  "jupytext": {
   "cell_metadata_filter": "-all",
   "main_language": "python",
   "notebook_metadata_filter": "-all"
  },
  "kernelspec": {
   "name": "Python 3.7.7 64-bit ('ml': conda)",
   "display_name": "Python 3.7.7 64-bit ('ml': conda)",
   "metadata": {
    "interpreter": {
     "hash": "a15157aff667c6a9c8d43b10f27783a607d9cdad097282b39352efe0a0eaa1e1"
    }
   }
  }
 },
 "nbformat": 4,
 "nbformat_minor": 2
}